{
  "nbformat": 4,
  "nbformat_minor": 0,
  "metadata": {
    "colab": {
      "provenance": [],
      "authorship_tag": "ABX9TyNJ4jIHV3ehnJIEfi7HAxDJ",
      "include_colab_link": true
    },
    "kernelspec": {
      "name": "python3",
      "display_name": "Python 3"
    },
    "language_info": {
      "name": "python"
    }
  },
  "cells": [
    {
      "cell_type": "markdown",
      "metadata": {
        "id": "view-in-github",
        "colab_type": "text"
      },
      "source": [
        "<a href=\"https://colab.research.google.com/github/yemioz/Advent-of-Code-2023/blob/main/Day1/AoCDay1.ipynb\" target=\"_parent\"><img src=\"https://colab.research.google.com/assets/colab-badge.svg\" alt=\"Open In Colab\"/></a>"
      ]
    },
    {
      "cell_type": "markdown",
      "source": [
        "#Day 1"
      ],
      "metadata": {
        "id": "tB4g1iWSjc4M"
      }
    },
    {
      "cell_type": "markdown",
      "source": [
        "Part 1: Combining first digit and last digit of each line, them sum all the two digit numbers"
      ],
      "metadata": {
        "id": "6BW0NPK-jh4i"
      }
    },
    {
      "cell_type": "code",
      "source": [
        "import pandas as pd"
      ],
      "metadata": {
        "id": "t-7q4xy9jvIM"
      },
      "execution_count": 1,
      "outputs": []
    },
    {
      "cell_type": "code",
      "execution_count": 2,
      "metadata": {
        "id": "BmlObh_7jZyR"
      },
      "outputs": [],
      "source": [
        "day1url = \"https://raw.githubusercontent.com/yemioz/Advent-of-Code-2023/main/Day%201%20Input\"\n",
        "data = pd.read_csv(day1url, header=None)"
      ]
    },
    {
      "cell_type": "code",
      "source": [
        "data.rename(columns={0: 'column'}, inplace=True)\n",
        "data"
      ],
      "metadata": {
        "id": "yo44SmyEnDcp",
        "colab": {
          "base_uri": "https://localhost:8080/",
          "height": 424
        },
        "outputId": "0ac39a2c-e00f-4374-fb56-fea181df495d"
      },
      "execution_count": 5,
      "outputs": [
        {
          "output_type": "execute_result",
          "data": {
            "text/plain": [
              "                                             column\n",
              "0                           dssmtmrkonedbbhdhjbf9hq\n",
              "1                    2njsevenszzsfltconesixhsflpbpd\n",
              "2                 6shgbprkpbksnfourfivemvncvg2eight\n",
              "3    eightseventhree7lfqpnclxnnineninemgkjtqksrdone\n",
              "4            bsxxzhkmmfcslmdhhrgf9seven665lsknmbpgj\n",
              "..                                              ...\n",
              "995                                   2eight8fmktlf\n",
              "996                vjchzt7btthreesix1tcngpbtzsfmvsx\n",
              "997                                            sjv8\n",
              "998     ncqpkzh5twooneoneqfxlqbjjhqsrlkhvdnvtbzpcbj\n",
              "999                                 449three45three\n",
              "\n",
              "[1000 rows x 1 columns]"
            ],
            "text/html": [
              "\n",
              "  <div id=\"df-aace494d-b2fa-433f-b0eb-cc97d54d42ca\" class=\"colab-df-container\">\n",
              "    <div>\n",
              "<style scoped>\n",
              "    .dataframe tbody tr th:only-of-type {\n",
              "        vertical-align: middle;\n",
              "    }\n",
              "\n",
              "    .dataframe tbody tr th {\n",
              "        vertical-align: top;\n",
              "    }\n",
              "\n",
              "    .dataframe thead th {\n",
              "        text-align: right;\n",
              "    }\n",
              "</style>\n",
              "<table border=\"1\" class=\"dataframe\">\n",
              "  <thead>\n",
              "    <tr style=\"text-align: right;\">\n",
              "      <th></th>\n",
              "      <th>column</th>\n",
              "    </tr>\n",
              "  </thead>\n",
              "  <tbody>\n",
              "    <tr>\n",
              "      <th>0</th>\n",
              "      <td>dssmtmrkonedbbhdhjbf9hq</td>\n",
              "    </tr>\n",
              "    <tr>\n",
              "      <th>1</th>\n",
              "      <td>2njsevenszzsfltconesixhsflpbpd</td>\n",
              "    </tr>\n",
              "    <tr>\n",
              "      <th>2</th>\n",
              "      <td>6shgbprkpbksnfourfivemvncvg2eight</td>\n",
              "    </tr>\n",
              "    <tr>\n",
              "      <th>3</th>\n",
              "      <td>eightseventhree7lfqpnclxnnineninemgkjtqksrdone</td>\n",
              "    </tr>\n",
              "    <tr>\n",
              "      <th>4</th>\n",
              "      <td>bsxxzhkmmfcslmdhhrgf9seven665lsknmbpgj</td>\n",
              "    </tr>\n",
              "    <tr>\n",
              "      <th>...</th>\n",
              "      <td>...</td>\n",
              "    </tr>\n",
              "    <tr>\n",
              "      <th>995</th>\n",
              "      <td>2eight8fmktlf</td>\n",
              "    </tr>\n",
              "    <tr>\n",
              "      <th>996</th>\n",
              "      <td>vjchzt7btthreesix1tcngpbtzsfmvsx</td>\n",
              "    </tr>\n",
              "    <tr>\n",
              "      <th>997</th>\n",
              "      <td>sjv8</td>\n",
              "    </tr>\n",
              "    <tr>\n",
              "      <th>998</th>\n",
              "      <td>ncqpkzh5twooneoneqfxlqbjjhqsrlkhvdnvtbzpcbj</td>\n",
              "    </tr>\n",
              "    <tr>\n",
              "      <th>999</th>\n",
              "      <td>449three45three</td>\n",
              "    </tr>\n",
              "  </tbody>\n",
              "</table>\n",
              "<p>1000 rows × 1 columns</p>\n",
              "</div>\n",
              "    <div class=\"colab-df-buttons\">\n",
              "\n",
              "  <div class=\"colab-df-container\">\n",
              "    <button class=\"colab-df-convert\" onclick=\"convertToInteractive('df-aace494d-b2fa-433f-b0eb-cc97d54d42ca')\"\n",
              "            title=\"Convert this dataframe to an interactive table.\"\n",
              "            style=\"display:none;\">\n",
              "\n",
              "  <svg xmlns=\"http://www.w3.org/2000/svg\" height=\"24px\" viewBox=\"0 -960 960 960\">\n",
              "    <path d=\"M120-120v-720h720v720H120Zm60-500h600v-160H180v160Zm220 220h160v-160H400v160Zm0 220h160v-160H400v160ZM180-400h160v-160H180v160Zm440 0h160v-160H620v160ZM180-180h160v-160H180v160Zm440 0h160v-160H620v160Z\"/>\n",
              "  </svg>\n",
              "    </button>\n",
              "\n",
              "  <style>\n",
              "    .colab-df-container {\n",
              "      display:flex;\n",
              "      gap: 12px;\n",
              "    }\n",
              "\n",
              "    .colab-df-convert {\n",
              "      background-color: #E8F0FE;\n",
              "      border: none;\n",
              "      border-radius: 50%;\n",
              "      cursor: pointer;\n",
              "      display: none;\n",
              "      fill: #1967D2;\n",
              "      height: 32px;\n",
              "      padding: 0 0 0 0;\n",
              "      width: 32px;\n",
              "    }\n",
              "\n",
              "    .colab-df-convert:hover {\n",
              "      background-color: #E2EBFA;\n",
              "      box-shadow: 0px 1px 2px rgba(60, 64, 67, 0.3), 0px 1px 3px 1px rgba(60, 64, 67, 0.15);\n",
              "      fill: #174EA6;\n",
              "    }\n",
              "\n",
              "    .colab-df-buttons div {\n",
              "      margin-bottom: 4px;\n",
              "    }\n",
              "\n",
              "    [theme=dark] .colab-df-convert {\n",
              "      background-color: #3B4455;\n",
              "      fill: #D2E3FC;\n",
              "    }\n",
              "\n",
              "    [theme=dark] .colab-df-convert:hover {\n",
              "      background-color: #434B5C;\n",
              "      box-shadow: 0px 1px 3px 1px rgba(0, 0, 0, 0.15);\n",
              "      filter: drop-shadow(0px 1px 2px rgba(0, 0, 0, 0.3));\n",
              "      fill: #FFFFFF;\n",
              "    }\n",
              "  </style>\n",
              "\n",
              "    <script>\n",
              "      const buttonEl =\n",
              "        document.querySelector('#df-aace494d-b2fa-433f-b0eb-cc97d54d42ca button.colab-df-convert');\n",
              "      buttonEl.style.display =\n",
              "        google.colab.kernel.accessAllowed ? 'block' : 'none';\n",
              "\n",
              "      async function convertToInteractive(key) {\n",
              "        const element = document.querySelector('#df-aace494d-b2fa-433f-b0eb-cc97d54d42ca');\n",
              "        const dataTable =\n",
              "          await google.colab.kernel.invokeFunction('convertToInteractive',\n",
              "                                                    [key], {});\n",
              "        if (!dataTable) return;\n",
              "\n",
              "        const docLinkHtml = 'Like what you see? Visit the ' +\n",
              "          '<a target=\"_blank\" href=https://colab.research.google.com/notebooks/data_table.ipynb>data table notebook</a>'\n",
              "          + ' to learn more about interactive tables.';\n",
              "        element.innerHTML = '';\n",
              "        dataTable['output_type'] = 'display_data';\n",
              "        await google.colab.output.renderOutput(dataTable, element);\n",
              "        const docLink = document.createElement('div');\n",
              "        docLink.innerHTML = docLinkHtml;\n",
              "        element.appendChild(docLink);\n",
              "      }\n",
              "    </script>\n",
              "  </div>\n",
              "\n",
              "\n",
              "<div id=\"df-531203ac-99f3-4fcd-b5c4-1a894eac2195\">\n",
              "  <button class=\"colab-df-quickchart\" onclick=\"quickchart('df-531203ac-99f3-4fcd-b5c4-1a894eac2195')\"\n",
              "            title=\"Suggest charts\"\n",
              "            style=\"display:none;\">\n",
              "\n",
              "<svg xmlns=\"http://www.w3.org/2000/svg\" height=\"24px\"viewBox=\"0 0 24 24\"\n",
              "     width=\"24px\">\n",
              "    <g>\n",
              "        <path d=\"M19 3H5c-1.1 0-2 .9-2 2v14c0 1.1.9 2 2 2h14c1.1 0 2-.9 2-2V5c0-1.1-.9-2-2-2zM9 17H7v-7h2v7zm4 0h-2V7h2v10zm4 0h-2v-4h2v4z\"/>\n",
              "    </g>\n",
              "</svg>\n",
              "  </button>\n",
              "\n",
              "<style>\n",
              "  .colab-df-quickchart {\n",
              "      --bg-color: #E8F0FE;\n",
              "      --fill-color: #1967D2;\n",
              "      --hover-bg-color: #E2EBFA;\n",
              "      --hover-fill-color: #174EA6;\n",
              "      --disabled-fill-color: #AAA;\n",
              "      --disabled-bg-color: #DDD;\n",
              "  }\n",
              "\n",
              "  [theme=dark] .colab-df-quickchart {\n",
              "      --bg-color: #3B4455;\n",
              "      --fill-color: #D2E3FC;\n",
              "      --hover-bg-color: #434B5C;\n",
              "      --hover-fill-color: #FFFFFF;\n",
              "      --disabled-bg-color: #3B4455;\n",
              "      --disabled-fill-color: #666;\n",
              "  }\n",
              "\n",
              "  .colab-df-quickchart {\n",
              "    background-color: var(--bg-color);\n",
              "    border: none;\n",
              "    border-radius: 50%;\n",
              "    cursor: pointer;\n",
              "    display: none;\n",
              "    fill: var(--fill-color);\n",
              "    height: 32px;\n",
              "    padding: 0;\n",
              "    width: 32px;\n",
              "  }\n",
              "\n",
              "  .colab-df-quickchart:hover {\n",
              "    background-color: var(--hover-bg-color);\n",
              "    box-shadow: 0 1px 2px rgba(60, 64, 67, 0.3), 0 1px 3px 1px rgba(60, 64, 67, 0.15);\n",
              "    fill: var(--button-hover-fill-color);\n",
              "  }\n",
              "\n",
              "  .colab-df-quickchart-complete:disabled,\n",
              "  .colab-df-quickchart-complete:disabled:hover {\n",
              "    background-color: var(--disabled-bg-color);\n",
              "    fill: var(--disabled-fill-color);\n",
              "    box-shadow: none;\n",
              "  }\n",
              "\n",
              "  .colab-df-spinner {\n",
              "    border: 2px solid var(--fill-color);\n",
              "    border-color: transparent;\n",
              "    border-bottom-color: var(--fill-color);\n",
              "    animation:\n",
              "      spin 1s steps(1) infinite;\n",
              "  }\n",
              "\n",
              "  @keyframes spin {\n",
              "    0% {\n",
              "      border-color: transparent;\n",
              "      border-bottom-color: var(--fill-color);\n",
              "      border-left-color: var(--fill-color);\n",
              "    }\n",
              "    20% {\n",
              "      border-color: transparent;\n",
              "      border-left-color: var(--fill-color);\n",
              "      border-top-color: var(--fill-color);\n",
              "    }\n",
              "    30% {\n",
              "      border-color: transparent;\n",
              "      border-left-color: var(--fill-color);\n",
              "      border-top-color: var(--fill-color);\n",
              "      border-right-color: var(--fill-color);\n",
              "    }\n",
              "    40% {\n",
              "      border-color: transparent;\n",
              "      border-right-color: var(--fill-color);\n",
              "      border-top-color: var(--fill-color);\n",
              "    }\n",
              "    60% {\n",
              "      border-color: transparent;\n",
              "      border-right-color: var(--fill-color);\n",
              "    }\n",
              "    80% {\n",
              "      border-color: transparent;\n",
              "      border-right-color: var(--fill-color);\n",
              "      border-bottom-color: var(--fill-color);\n",
              "    }\n",
              "    90% {\n",
              "      border-color: transparent;\n",
              "      border-bottom-color: var(--fill-color);\n",
              "    }\n",
              "  }\n",
              "</style>\n",
              "\n",
              "  <script>\n",
              "    async function quickchart(key) {\n",
              "      const quickchartButtonEl =\n",
              "        document.querySelector('#' + key + ' button');\n",
              "      quickchartButtonEl.disabled = true;  // To prevent multiple clicks.\n",
              "      quickchartButtonEl.classList.add('colab-df-spinner');\n",
              "      try {\n",
              "        const charts = await google.colab.kernel.invokeFunction(\n",
              "            'suggestCharts', [key], {});\n",
              "      } catch (error) {\n",
              "        console.error('Error during call to suggestCharts:', error);\n",
              "      }\n",
              "      quickchartButtonEl.classList.remove('colab-df-spinner');\n",
              "      quickchartButtonEl.classList.add('colab-df-quickchart-complete');\n",
              "    }\n",
              "    (() => {\n",
              "      let quickchartButtonEl =\n",
              "        document.querySelector('#df-531203ac-99f3-4fcd-b5c4-1a894eac2195 button');\n",
              "      quickchartButtonEl.style.display =\n",
              "        google.colab.kernel.accessAllowed ? 'block' : 'none';\n",
              "    })();\n",
              "  </script>\n",
              "</div>\n",
              "\n",
              "  <div id=\"id_f9ba2459-9997-45ff-b916-a8d5aadd16f8\">\n",
              "    <style>\n",
              "      .colab-df-generate {\n",
              "        background-color: #E8F0FE;\n",
              "        border: none;\n",
              "        border-radius: 50%;\n",
              "        cursor: pointer;\n",
              "        display: none;\n",
              "        fill: #1967D2;\n",
              "        height: 32px;\n",
              "        padding: 0 0 0 0;\n",
              "        width: 32px;\n",
              "      }\n",
              "\n",
              "      .colab-df-generate:hover {\n",
              "        background-color: #E2EBFA;\n",
              "        box-shadow: 0px 1px 2px rgba(60, 64, 67, 0.3), 0px 1px 3px 1px rgba(60, 64, 67, 0.15);\n",
              "        fill: #174EA6;\n",
              "      }\n",
              "\n",
              "      [theme=dark] .colab-df-generate {\n",
              "        background-color: #3B4455;\n",
              "        fill: #D2E3FC;\n",
              "      }\n",
              "\n",
              "      [theme=dark] .colab-df-generate:hover {\n",
              "        background-color: #434B5C;\n",
              "        box-shadow: 0px 1px 3px 1px rgba(0, 0, 0, 0.15);\n",
              "        filter: drop-shadow(0px 1px 2px rgba(0, 0, 0, 0.3));\n",
              "        fill: #FFFFFF;\n",
              "      }\n",
              "    </style>\n",
              "    <button class=\"colab-df-generate\" onclick=\"generateWithVariable('data')\"\n",
              "            title=\"Generate code using this dataframe.\"\n",
              "            style=\"display:none;\">\n",
              "\n",
              "  <svg xmlns=\"http://www.w3.org/2000/svg\" height=\"24px\"viewBox=\"0 0 24 24\"\n",
              "       width=\"24px\">\n",
              "    <path d=\"M7,19H8.4L18.45,9,17,7.55,7,17.6ZM5,21V16.75L18.45,3.32a2,2,0,0,1,2.83,0l1.4,1.43a1.91,1.91,0,0,1,.58,1.4,1.91,1.91,0,0,1-.58,1.4L9.25,21ZM18.45,9,17,7.55Zm-12,3A5.31,5.31,0,0,0,4.9,8.1,5.31,5.31,0,0,0,1,6.5,5.31,5.31,0,0,0,4.9,4.9,5.31,5.31,0,0,0,6.5,1,5.31,5.31,0,0,0,8.1,4.9,5.31,5.31,0,0,0,12,6.5,5.46,5.46,0,0,0,6.5,12Z\"/>\n",
              "  </svg>\n",
              "    </button>\n",
              "    <script>\n",
              "      (() => {\n",
              "      const buttonEl =\n",
              "        document.querySelector('#id_f9ba2459-9997-45ff-b916-a8d5aadd16f8 button.colab-df-generate');\n",
              "      buttonEl.style.display =\n",
              "        google.colab.kernel.accessAllowed ? 'block' : 'none';\n",
              "\n",
              "      buttonEl.onclick = () => {\n",
              "        google.colab.notebook.generateWithVariable('data');\n",
              "      }\n",
              "      })();\n",
              "    </script>\n",
              "  </div>\n",
              "\n",
              "    </div>\n",
              "  </div>\n"
            ]
          },
          "metadata": {},
          "execution_count": 5
        }
      ]
    },
    {
      "cell_type": "code",
      "source": [
        "# creating list of first and last number in row\n",
        "forward_list = []\n",
        "reverse_list = []\n",
        "for row in data['column']:\n",
        "  for for_index in row:\n",
        "    if for_index.isdigit() == True:\n",
        "      forward_list.append(for_index)\n",
        "      break\n",
        "  rev = row[::-1]\n",
        "  for rev_index in rev:\n",
        "    if rev_index.isdigit() == True:\n",
        "      reverse_list.append(rev_index)\n",
        "      break\n",
        "\n",
        "print(forward_list)\n",
        "print(reverse_list)"
      ],
      "metadata": {
        "colab": {
          "base_uri": "https://localhost:8080/"
        },
        "id": "dRkm7C1dkDU4",
        "outputId": "e43e28c4-abc1-40da-e61e-1c77a8422694"
      },
      "execution_count": 6,
      "outputs": [
        {
          "output_type": "stream",
          "name": "stdout",
          "text": [
            "['9', '2', '6', '7', '9', '9', '2', '3', '8', '7', '5', '2', '5', '4', '5', '4', '7', '4', '4', '6', '9', '7', '5', '9', '7', '8', '7', '6', '2', '2', '2', '7', '4', '7', '3', '1', '5', '9', '7', '7', '6', '2', '3', '2', '3', '5', '7', '2', '3', '6', '9', '2', '6', '5', '2', '4', '9', '4', '3', '1', '2', '6', '7', '2', '7', '9', '1', '1', '4', '2', '1', '9', '7', '3', '6', '4', '2', '2', '9', '6', '2', '8', '2', '6', '4', '9', '5', '3', '6', '9', '4', '1', '8', '8', '5', '2', '9', '9', '2', '4', '7', '3', '1', '8', '9', '2', '2', '4', '9', '4', '2', '6', '3', '1', '4', '5', '3', '4', '7', '2', '2', '8', '5', '3', '3', '1', '4', '9', '9', '5', '6', '1', '6', '8', '6', '8', '8', '4', '5', '8', '4', '5', '4', '4', '6', '9', '6', '6', '9', '1', '6', '1', '2', '4', '6', '7', '6', '1', '8', '7', '7', '4', '3', '7', '2', '4', '5', '4', '5', '4', '1', '6', '2', '6', '9', '3', '8', '4', '4', '3', '7', '7', '9', '3', '9', '8', '9', '5', '9', '8', '5', '4', '9', '1', '1', '4', '6', '6', '9', '2', '3', '4', '8', '2', '2', '2', '2', '1', '7', '7', '5', '2', '9', '9', '5', '7', '7', '8', '2', '8', '8', '6', '1', '1', '6', '9', '9', '4', '4', '1', '8', '2', '9', '9', '6', '1', '6', '7', '9', '3', '5', '2', '6', '5', '7', '7', '4', '6', '3', '5', '9', '2', '7', '8', '3', '8', '6', '4', '9', '1', '6', '6', '4', '4', '8', '8', '5', '6', '6', '7', '7', '8', '6', '9', '3', '1', '2', '9', '5', '7', '2', '1', '6', '2', '9', '1', '2', '8', '7', '9', '9', '6', '6', '9', '7', '4', '3', '4', '4', '6', '4', '5', '1', '1', '5', '6', '8', '5', '1', '4', '4', '5', '3', '7', '2', '3', '4', '4', '2', '7', '9', '4', '6', '7', '3', '6', '5', '4', '2', '1', '8', '4', '7', '5', '7', '3', '8', '5', '2', '1', '9', '2', '2', '2', '2', '7', '5', '5', '7', '8', '5', '5', '4', '9', '4', '9', '4', '8', '6', '9', '6', '8', '2', '5', '8', '2', '1', '4', '8', '7', '4', '2', '8', '5', '2', '7', '6', '8', '1', '9', '7', '7', '9', '5', '2', '3', '7', '5', '5', '4', '7', '2', '4', '8', '9', '3', '1', '7', '9', '4', '8', '5', '9', '5', '1', '2', '4', '7', '4', '3', '6', '7', '5', '1', '5', '4', '8', '3', '1', '5', '6', '3', '5', '3', '3', '6', '8', '4', '4', '9', '4', '3', '3', '8', '8', '8', '7', '5', '9', '9', '1', '1', '1', '3', '4', '2', '6', '4', '5', '1', '5', '1', '8', '9', '5', '4', '9', '9', '4', '4', '2', '4', '4', '2', '1', '6', '6', '9', '1', '4', '3', '8', '6', '3', '4', '7', '7', '2', '2', '1', '1', '4', '9', '7', '1', '2', '3', '1', '5', '4', '6', '1', '1', '3', '6', '3', '8', '6', '7', '4', '7', '7', '3', '9', '6', '9', '4', '4', '1', '7', '6', '7', '3', '4', '7', '5', '7', '7', '6', '9', '2', '8', '4', '6', '5', '7', '4', '2', '5', '2', '2', '9', '4', '7', '1', '9', '5', '6', '5', '1', '3', '7', '1', '5', '1', '9', '4', '9', '4', '4', '7', '2', '6', '9', '7', '5', '4', '2', '1', '1', '3', '8', '7', '2', '5', '2', '8', '4', '5', '7', '5', '2', '4', '5', '7', '3', '1', '3', '6', '9', '7', '9', '4', '5', '8', '2', '3', '9', '6', '1', '7', '6', '1', '3', '1', '4', '2', '2', '7', '3', '5', '7', '5', '8', '9', '7', '2', '9', '7', '8', '1', '6', '9', '9', '4', '5', '3', '7', '9', '2', '6', '8', '2', '8', '1', '9', '8', '3', '4', '3', '1', '4', '8', '4', '1', '3', '3', '4', '2', '8', '1', '8', '9', '8', '6', '4', '7', '4', '2', '4', '5', '2', '5', '3', '1', '6', '7', '2', '1', '9', '9', '4', '2', '3', '1', '1', '5', '4', '7', '8', '1', '1', '6', '5', '6', '1', '7', '6', '2', '2', '6', '6', '4', '8', '7', '6', '4', '1', '5', '4', '9', '8', '2', '4', '6', '1', '3', '1', '2', '6', '5', '4', '3', '4', '2', '9', '8', '1', '2', '2', '1', '6', '5', '3', '7', '8', '3', '6', '3', '5', '5', '4', '5', '3', '6', '9', '4', '1', '2', '2', '6', '4', '3', '3', '4', '3', '4', '5', '3', '3', '1', '9', '7', '8', '1', '9', '1', '1', '6', '3', '2', '4', '5', '5', '1', '3', '7', '6', '9', '4', '8', '7', '6', '5', '3', '7', '2', '8', '2', '4', '6', '8', '4', '4', '5', '2', '3', '6', '1', '4', '2', '5', '4', '3', '3', '8', '4', '4', '9', '9', '4', '4', '7', '9', '2', '5', '2', '9', '8', '8', '3', '5', '9', '8', '6', '9', '2', '8', '7', '9', '4', '6', '5', '1', '4', '7', '6', '8', '5', '6', '5', '2', '1', '8', '5', '4', '1', '1', '4', '8', '4', '3', '2', '2', '3', '5', '9', '7', '1', '5', '2', '2', '7', '5', '1', '8', '3', '1', '2', '1', '4', '1', '1', '1', '1', '1', '1', '8', '2', '8', '8', '2', '2', '3', '2', '9', '8', '6', '1', '7', '3', '3', '8', '4', '4', '3', '2', '6', '9', '7', '6', '8', '9', '1', '2', '5', '8', '9', '4', '7', '7', '7', '2', '4', '5', '4', '5', '2', '7', '9', '1', '1', '5', '2', '6', '6', '9', '3', '2', '7', '1', '4', '5', '8', '6', '9', '2', '1', '5', '3', '2', '6', '9', '6', '2', '5', '7', '1', '2', '9', '7', '7', '4', '8', '3', '6', '2', '5', '3', '4', '2', '5', '8', '4', '1', '8', '1', '3', '5', '9', '9', '5', '3', '6', '9', '6', '2', '2', '8', '7', '7', '7', '4', '8', '3', '8', '9', '9', '3', '3', '4', '5', '5', '9', '2', '7', '8', '4', '4', '2', '1', '8', '8', '9', '1', '5', '5', '2', '5', '2', '2', '4', '4', '1', '6', '2', '7', '8', '5', '4']\n",
            "['9', '2', '2', '7', '5', '7', '4', '6', '8', '8', '8', '9', '1', '6', '8', '3', '8', '6', '6', '1', '9', '7', '8', '7', '2', '7', '4', '4', '4', '6', '1', '7', '4', '7', '3', '4', '1', '2', '7', '5', '4', '9', '2', '2', '3', '5', '4', '8', '1', '9', '6', '6', '6', '1', '1', '2', '9', '4', '5', '1', '9', '6', '7', '8', '7', '9', '2', '1', '5', '3', '7', '2', '7', '9', '4', '4', '2', '9', '8', '6', '2', '8', '2', '2', '4', '9', '4', '3', '4', '9', '1', '1', '8', '4', '4', '5', '9', '5', '4', '4', '5', '3', '8', '6', '1', '2', '2', '9', '7', '7', '7', '1', '3', '4', '7', '5', '1', '4', '4', '8', '7', '1', '9', '9', '9', '7', '4', '6', '5', '6', '6', '6', '7', '8', '5', '2', '8', '1', '5', '9', '4', '6', '3', '4', '7', '9', '6', '3', '9', '2', '3', '1', '4', '8', '3', '4', '6', '8', '8', '7', '5', '6', '4', '7', '5', '8', '5', '9', '7', '8', '6', '6', '1', '9', '3', '1', '4', '5', '7', '3', '1', '7', '9', '3', '2', '4', '3', '5', '8', '9', '3', '4', '9', '3', '1', '4', '6', '4', '9', '8', '3', '4', '7', '5', '2', '2', '1', '9', '5', '7', '5', '2', '6', '2', '5', '7', '7', '8', '4', '5', '8', '6', '7', '8', '5', '5', '9', '8', '1', '1', '7', '7', '5', '3', '8', '5', '2', '1', '5', '9', '4', '2', '6', '5', '6', '7', '5', '6', '3', '8', '9', '3', '7', '8', '5', '8', '3', '2', '8', '9', '5', '6', '6', '1', '8', '5', '4', '9', '6', '7', '5', '9', '6', '9', '6', '1', '4', '9', '5', '5', '7', '9', '6', '2', '9', '7', '2', '7', '1', '2', '6', '1', '6', '4', '7', '4', '1', '8', '2', '4', '4', '5', '7', '1', '4', '7', '5', '1', '1', '2', '7', '2', '3', '3', '2', '3', '2', '2', '2', '5', '9', '2', '9', '3', '6', '6', '3', '2', '2', '1', '2', '4', '9', '5', '1', '8', '3', '1', '8', '1', '2', '7', '2', '2', '4', '2', '8', '5', '7', '5', '5', '5', '3', '9', '4', '4', '2', '9', '6', '6', '9', '8', '2', '5', '8', '8', '1', '4', '8', '6', '4', '4', '8', '5', '1', '9', '8', '4', '1', '9', '2', '6', '3', '5', '4', '8', '2', '5', '5', '3', '5', '2', '4', '8', '2', '3', '3', '6', '5', '4', '1', '5', '3', '5', '8', '2', '4', '7', '3', '8', '6', '7', '5', '5', '3', '4', '7', '5', '1', '6', '8', '4', '5', '3', '2', '7', '9', '4', '5', '7', '7', '3', '7', '9', '8', '4', '7', '1', '4', '9', '4', '6', '1', '6', '3', '5', '6', '5', '5', '6', '7', '2', '3', '6', '5', '4', '3', '3', '4', '3', '2', '3', '6', '4', '3', '6', '6', '9', '1', '4', '3', '8', '8', '9', '7', '7', '8', '5', '2', '2', '3', '1', '9', '7', '4', '5', '2', '1', '5', '1', '8', '1', '3', '3', '3', '7', '3', '6', '6', '6', '7', '6', '5', '4', '6', '4', '5', '4', '1', '1', '2', '8', '3', '4', '2', '9', '1', '7', '8', '4', '9', '9', '2', '6', '5', '7', '4', '2', '3', '6', '2', '8', '9', '7', '5', '9', '3', '6', '6', '9', '8', '7', '2', '5', '3', '8', '2', '9', '6', '1', '3', '2', '6', '9', '1', '3', '4', '7', '5', '2', '3', '8', '7', '2', '7', '2', '8', '5', '5', '9', '2', '5', '4', '4', '1', '4', '1', '3', '7', '9', '4', '9', '4', '8', '8', '2', '7', '1', '7', '1', '9', '7', '8', '3', '3', '4', '1', '2', '7', '3', '8', '4', '5', '3', '9', '8', '6', '9', '9', '1', '1', '9', '8', '7', '4', '5', '3', '8', '9', '6', '6', '6', '2', '9', '1', '9', '2', '6', '8', '7', '3', '9', '8', '7', '1', '4', '8', '4', '2', '9', '7', '6', '5', '6', '6', '1', '7', '4', '9', '9', '2', '4', '9', '3', '1', '6', '6', '8', '1', '9', '9', '7', '7', '3', '1', '9', '5', '4', '3', '8', '1', '8', '9', '6', '4', '9', '9', '5', '2', '6', '6', '6', '5', '6', '7', '7', '4', '9', '9', '4', '7', '6', '4', '9', '8', '1', '3', '6', '4', '6', '5', '5', '3', '7', '7', '9', '4', '5', '4', '3', '8', '6', '5', '5', '4', '4', '1', '6', '3', '5', '5', '9', '5', '3', '8', '9', '1', '7', '7', '8', '6', '4', '4', '5', '8', '7', '1', '5', '8', '3', '2', '9', '7', '2', '1', '1', '1', '2', '6', '3', '2', '4', '5', '6', '4', '4', '7', '3', '9', '1', '8', '3', '6', '5', '5', '7', '2', '8', '7', '8', '6', '2', '1', '4', '5', '2', '5', '9', '1', '5', '2', '3', '4', '2', '3', '8', '3', '6', '1', '1', '1', '7', '8', '8', '2', '1', '4', '2', '8', '6', '1', '5', '5', '7', '6', '7', '2', '8', '7', '6', '5', '1', '4', '4', '4', '5', '6', '4', '5', '8', '1', '1', '4', '8', '5', '6', '2', '2', '4', '5', '4', '3', '6', '2', '8', '5', '9', '7', '3', '9', '3', '7', '5', '5', '1', '9', '7', '7', '4', '1', '4', '7', '9', '1', '2', '1', '1', '8', '5', '2', '9', '6', '3', '8', '2', '5', '4', '6', '3', '3', '4', '7', '8', '4', '3', '3', '4', '8', '9', '7', '6', '7', '8', '9', '2', '5', '2', '6', '2', '2', '4', '9', '2', '7', '6', '4', '2', '3', '1', '3', '1', '1', '3', '2', '1', '6', '6', '3', '2', '7', '7', '6', '2', '5', '6', '9', '9', '1', '9', '4', '3', '8', '9', '3', '2', '1', '5', '7', '1', '2', '5', '9', '4', '5', '8', '6', '2', '5', '5', '4', '8', '5', '8', '4', '1', '8', '8', '9', '3', '9', '2', '9', '3', '6', '9', '5', '5', '9', '6', '4', '1', '1', '4', '5', '3', '8', '2', '8', '1', '9', '7', '1', '5', '9', '2', '7', '5', '2', '4', '1', '1', '3', '2', '2', '9', '5', '5', '4', '5', '2', '2', '6', '7', '9', '6', '8', '1', '8', '5', '5']\n"
          ]
        }
      ]
    },
    {
      "cell_type": "code",
      "source": [
        "# checking if the lengths of the lists are equal\n",
        "equality = (len(forward_list) == len(reverse_list))\n",
        "print(equality)"
      ],
      "metadata": {
        "colab": {
          "base_uri": "https://localhost:8080/"
        },
        "id": "26m9eO0O5jxg",
        "outputId": "cffe5c1a-5f65-4be3-859c-b5a05c750660"
      },
      "execution_count": 7,
      "outputs": [
        {
          "output_type": "stream",
          "name": "stdout",
          "text": [
            "True\n"
          ]
        }
      ]
    },
    {
      "cell_type": "code",
      "source": [
        "# creating total list of each index from forward and reverse list\n",
        "calibration_values = []\n",
        "for i in range(len(forward_list)):\n",
        "  calibration_values.append(int(forward_list[i] + reverse_list[i]))\n",
        "\n",
        "print(calibration_values)"
      ],
      "metadata": {
        "colab": {
          "base_uri": "https://localhost:8080/"
        },
        "id": "EcVBDrMp6Scc",
        "outputId": "0f3ce225-acd4-4ef2-ab9c-240b3509a3a0"
      },
      "execution_count": 8,
      "outputs": [
        {
          "output_type": "stream",
          "name": "stdout",
          "text": [
            "[99, 22, 62, 77, 95, 97, 24, 36, 88, 78, 58, 29, 51, 46, 58, 43, 78, 46, 46, 61, 99, 77, 58, 97, 72, 87, 74, 64, 24, 26, 21, 77, 44, 77, 33, 14, 51, 92, 77, 75, 64, 29, 32, 22, 33, 55, 74, 28, 31, 69, 96, 26, 66, 51, 21, 42, 99, 44, 35, 11, 29, 66, 77, 28, 77, 99, 12, 11, 45, 23, 17, 92, 77, 39, 64, 44, 22, 29, 98, 66, 22, 88, 22, 62, 44, 99, 54, 33, 64, 99, 41, 11, 88, 84, 54, 25, 99, 95, 24, 44, 75, 33, 18, 86, 91, 22, 22, 49, 97, 47, 27, 61, 33, 14, 47, 55, 31, 44, 74, 28, 27, 81, 59, 39, 39, 17, 44, 96, 95, 56, 66, 16, 67, 88, 65, 82, 88, 41, 55, 89, 44, 56, 43, 44, 67, 99, 66, 63, 99, 12, 63, 11, 24, 48, 63, 74, 66, 18, 88, 77, 75, 46, 34, 77, 25, 48, 55, 49, 57, 48, 16, 66, 21, 69, 93, 31, 84, 45, 47, 33, 71, 77, 99, 33, 92, 84, 93, 55, 98, 89, 53, 44, 99, 13, 11, 44, 66, 64, 99, 28, 33, 44, 87, 25, 22, 22, 21, 19, 75, 77, 55, 22, 96, 92, 55, 77, 77, 88, 24, 85, 88, 66, 17, 18, 65, 95, 99, 48, 41, 11, 87, 27, 95, 93, 68, 15, 62, 71, 95, 39, 54, 22, 66, 55, 76, 77, 45, 66, 33, 58, 99, 23, 77, 88, 35, 88, 63, 42, 98, 19, 65, 66, 46, 41, 88, 85, 54, 69, 66, 77, 75, 89, 66, 99, 36, 11, 24, 99, 55, 75, 27, 19, 66, 22, 99, 17, 22, 87, 71, 92, 96, 61, 66, 94, 77, 44, 31, 48, 42, 64, 44, 55, 17, 11, 54, 67, 85, 51, 11, 42, 47, 52, 33, 73, 22, 33, 42, 42, 22, 75, 99, 42, 69, 73, 36, 66, 53, 42, 22, 11, 82, 44, 79, 55, 71, 38, 83, 51, 28, 11, 92, 27, 22, 22, 24, 72, 58, 55, 77, 85, 55, 55, 43, 99, 44, 94, 42, 89, 66, 96, 69, 88, 22, 55, 88, 28, 11, 44, 88, 76, 44, 24, 88, 55, 21, 79, 68, 84, 11, 99, 72, 76, 93, 55, 24, 38, 72, 55, 55, 43, 75, 22, 44, 88, 92, 33, 13, 76, 95, 44, 81, 55, 93, 55, 18, 22, 44, 77, 43, 38, 66, 77, 55, 15, 53, 44, 87, 35, 11, 56, 68, 34, 55, 33, 32, 67, 89, 44, 45, 97, 47, 33, 37, 89, 88, 84, 77, 51, 94, 99, 14, 16, 11, 36, 43, 25, 66, 45, 55, 16, 57, 12, 83, 96, 55, 44, 93, 93, 44, 43, 22, 43, 46, 24, 13, 66, 66, 99, 11, 44, 33, 88, 68, 39, 47, 77, 78, 25, 22, 12, 13, 41, 99, 77, 14, 25, 32, 11, 55, 41, 68, 11, 13, 33, 63, 37, 83, 66, 76, 46, 77, 76, 35, 94, 66, 94, 45, 44, 11, 71, 62, 78, 33, 44, 72, 59, 71, 77, 68, 94, 29, 89, 42, 66, 55, 77, 44, 22, 53, 26, 22, 98, 49, 77, 15, 99, 53, 66, 56, 19, 38, 77, 12, 55, 13, 98, 42, 99, 46, 41, 73, 22, 66, 99, 71, 53, 44, 27, 15, 12, 33, 88, 77, 22, 57, 22, 88, 45, 55, 79, 52, 25, 44, 54, 71, 34, 11, 33, 67, 99, 74, 99, 44, 58, 88, 22, 37, 91, 67, 11, 79, 67, 18, 33, 13, 44, 21, 22, 77, 33, 58, 74, 55, 83, 99, 78, 26, 99, 79, 81, 11, 69, 98, 97, 44, 55, 33, 78, 99, 26, 66, 86, 22, 89, 11, 99, 82, 36, 48, 37, 13, 49, 88, 47, 11, 34, 38, 44, 22, 89, 17, 86, 95, 86, 66, 41, 77, 44, 29, 49, 52, 24, 59, 33, 11, 66, 76, 28, 11, 99, 99, 47, 27, 33, 11, 19, 55, 44, 73, 88, 11, 18, 69, 56, 64, 19, 79, 65, 22, 26, 66, 66, 45, 86, 77, 67, 44, 19, 59, 44, 97, 86, 24, 49, 68, 11, 33, 16, 24, 66, 55, 45, 33, 47, 27, 99, 84, 15, 24, 23, 18, 66, 55, 35, 74, 84, 31, 66, 33, 55, 55, 49, 55, 33, 68, 99, 41, 17, 27, 28, 66, 44, 34, 35, 48, 37, 41, 55, 38, 33, 12, 99, 77, 82, 11, 91, 11, 12, 66, 33, 22, 44, 55, 56, 14, 34, 77, 63, 99, 41, 88, 73, 66, 55, 35, 77, 22, 88, 27, 48, 66, 82, 41, 44, 55, 22, 35, 69, 11, 45, 22, 53, 44, 32, 33, 88, 43, 46, 91, 91, 41, 47, 78, 98, 22, 51, 24, 92, 88, 86, 31, 55, 95, 87, 66, 97, 22, 88, 77, 96, 45, 61, 54, 14, 44, 75, 66, 84, 55, 68, 51, 21, 14, 88, 55, 46, 12, 12, 44, 85, 44, 33, 26, 22, 38, 55, 99, 77, 13, 59, 23, 27, 75, 55, 11, 89, 37, 17, 24, 11, 44, 17, 19, 11, 12, 11, 11, 88, 25, 82, 89, 26, 23, 38, 22, 95, 84, 66, 13, 73, 34, 37, 88, 44, 43, 33, 24, 68, 99, 77, 66, 87, 98, 19, 22, 55, 82, 96, 42, 72, 74, 79, 22, 47, 56, 44, 52, 23, 71, 93, 11, 11, 53, 22, 61, 66, 96, 33, 22, 77, 17, 46, 52, 85, 66, 99, 29, 11, 59, 34, 23, 68, 99, 63, 22, 51, 75, 17, 21, 92, 75, 79, 44, 85, 38, 66, 22, 55, 35, 44, 28, 55, 88, 44, 11, 88, 18, 39, 53, 99, 92, 59, 33, 66, 99, 65, 25, 29, 86, 74, 71, 71, 44, 85, 33, 88, 92, 98, 31, 39, 47, 51, 55, 99, 22, 77, 85, 42, 44, 21, 11, 83, 82, 92, 19, 55, 55, 24, 55, 22, 22, 46, 47, 19, 66, 28, 71, 88, 55, 45]\n"
          ]
        }
      ]
    },
    {
      "cell_type": "code",
      "source": [
        "# sum of calibration values\n",
        "sum_cv = sum(calibration_values)\n",
        "sum_cv"
      ],
      "metadata": {
        "colab": {
          "base_uri": "https://localhost:8080/"
        },
        "id": "3mMhAdoN9yEf",
        "outputId": "d79c9b2a-87c3-4a12-96a4-60a495e7d444"
      },
      "execution_count": 9,
      "outputs": [
        {
          "output_type": "execute_result",
          "data": {
            "text/plain": [
              "53921"
            ]
          },
          "metadata": {},
          "execution_count": 9
        }
      ]
    },
    {
      "cell_type": "markdown",
      "source": [
        "Part 2: Words are valid digits. Zero is not a valid digit.\n",
        "\n",
        "Can't use the reverse method because it would take too long to search for words in reverse and words forward. Would also have to take account the position of the word.\n",
        "\n",
        "Need to put each rows digit and word into a list, then take the first and last element of that list into an integer. Last step is to add up all the integers."
      ],
      "metadata": {
        "id": "WUqLumBV_vGw"
      }
    },
    {
      "cell_type": "code",
      "source": [
        "# creating a dictionary of digit strings\n",
        "digit_dict = {'one': '1', 'two': '2', 'three': '3', 'four': '4', 'five': '5', 'six': '6', 'seven': '7', 'eight': '8', 'nine': '9'}\n",
        "print(len(digit_dict))"
      ],
      "metadata": {
        "colab": {
          "base_uri": "https://localhost:8080/"
        },
        "id": "ys3eNtxc_0sJ",
        "outputId": "e530ce2f-5290-4067-8175-9cee0afb26c4"
      },
      "execution_count": 17,
      "outputs": [
        {
          "output_type": "stream",
          "name": "stdout",
          "text": [
            "9\n"
          ]
        }
      ]
    },
    {
      "cell_type": "code",
      "source": [
        "\"\"\"\n",
        "calib_digits = []\n",
        "for row in data['column']:\n",
        "  digits = []\n",
        "  while row:\n",
        "    if row[0].isdigit():\n",
        "      digits.append(row[0])\n",
        "      row = row[1:]\n",
        "      continue\n",
        "    for key in digit_dict:\n",
        "      if row.startswith(key):\n",
        "        digits.append(digit_dict.get(key))\n",
        "        row = row[len(key):]\n",
        "        break\n",
        "    else:\n",
        "      row = row[1:]\n",
        "  print(digits)\"\"\""
      ],
      "metadata": {
        "id": "DheqfpWZNRfB"
      },
      "execution_count": null,
      "outputs": []
    },
    {
      "cell_type": "markdown",
      "source": [
        "New method attemp. Only find first and last digit"
      ],
      "metadata": {
        "id": "OwopVjkGXsWP"
      }
    },
    {
      "cell_type": "code",
      "source": [
        "# first digit\n",
        "first_list = []\n",
        "for row in data['column']:\n",
        "  i=0\n",
        "  first = None\n",
        "  for i in range(len(row)):\n",
        "    if row[i].isdigit():\n",
        "      first = row[i]\n",
        "      first_list.append(first)\n",
        "      break\n",
        "    for key in digit_dict:\n",
        "      if row[i:].startswith(key):\n",
        "        first = digit_dict.get(key)\n",
        "        first_list.append(first)\n",
        "        break\n",
        "    if first:\n",
        "      break"
      ],
      "metadata": {
        "id": "0QzX759nPd-n"
      },
      "execution_count": 150,
      "outputs": []
    },
    {
      "cell_type": "code",
      "source": [
        "# last digit\n",
        "last_list = []\n",
        "for row in data['column']:\n",
        "  i=0\n",
        "  last = None\n",
        "  for i in range(len(row)-1, -1, -1):\n",
        "    if row[i].isdigit():\n",
        "      last = row[i]\n",
        "      last_list.append(last)\n",
        "      break\n",
        "    for key in digit_dict:\n",
        "      if row[i:].startswith(key):\n",
        "        last = digit_dict.get(key)\n",
        "        last_list.append(last)\n",
        "        break\n",
        "    if last:\n",
        "      break"
      ],
      "metadata": {
        "id": "rAyWYCjEciXL"
      },
      "execution_count": 167,
      "outputs": []
    },
    {
      "cell_type": "code",
      "source": [
        "# Seeing if lengths of first digit and last digit match\n",
        "if len(first_list) == len(last_list):\n",
        "  print(first_list)\n",
        "  print(last_list)\n",
        "else:\n",
        "  print(f'Lists are not the same lengths.\\nFirst List: {len(first_list)} \\nLast List: {len(last_list)}')"
      ],
      "metadata": {
        "colab": {
          "base_uri": "https://localhost:8080/"
        },
        "id": "Uqc7cjV_cpjy",
        "outputId": "f1e00df7-56b8-4883-a741-af09c0e04d71"
      },
      "execution_count": 168,
      "outputs": [
        {
          "output_type": "stream",
          "name": "stdout",
          "text": [
            "['1', '2', '6', '8', '9', '9', '2', '3', '1', '4', '6', '2', '5', '6', '5', '4', '6', '6', '4', '6', '9', '6', '5', '6', '7', '8', '7', '6', '2', '2', '2', '7', '4', '7', '3', '8', '5', '9', '7', '7', '1', '2', '3', '2', '4', '5', '6', '2', '3', '6', '9', '2', '6', '8', '2', '3', '9', '4', '3', '1', '2', '6', '7', '2', '7', '2', '2', '1', '4', '2', '2', '8', '1', '3', '9', '4', '2', '2', '9', '6', '7', '8', '2', '6', '9', '9', '5', '3', '7', '2', '1', '4', '6', '6', '9', '2', '7', '2', '2', '7', '4', '8', '1', '1', '9', '2', '2', '4', '5', '5', '2', '4', '6', '6', '4', '5', '3', '4', '4', '2', '8', '6', '6', '3', '3', '1', '5', '9', '7', '5', '8', '6', '9', '2', '6', '8', '8', '7', '5', '3', '4', '5', '4', '4', '6', '7', '6', '6', '9', '1', '6', '1', '2', '4', '4', '7', '6', '1', '4', '8', '7', '1', '3', '7', '4', '4', '3', '9', '5', '4', '1', '6', '2', '3', '9', '3', '4', '4', '7', '3', '7', '7', '2', '7', '9', '8', '9', '5', '9', '8', '5', '2', '5', '1', '3', '1', '6', '6', '9', '2', '3', '4', '8', '2', '2', '4', '1', '1', '1', '4', '5', '2', '9', '9', '8', '7', '7', '8', '2', '8', '5', '3', '7', '2', '6', '9', '9', '4', '9', '5', '7', '2', '4', '9', '8', '2', '4', '7', '9', '3', '2', '2', '1', '5', '7', '7', '4', '7', '8', '5', '8', '1', '7', '9', '2', '6', '8', '4', '9', '1', '8', '6', '4', '5', '8', '3', '5', '3', '4', '8', '7', '8', '1', '9', '7', '1', '2', '1', '5', '8', '2', '1', '6', '3', '4', '1', '1', '8', '7', '9', '9', '6', '6', '9', '6', '4', '3', '4', '4', '5', '3', '1', '4', '1', '5', '1', '8', '5', '1', '4', '4', '5', '9', '7', '3', '3', '1', '9', '2', '7', '9', '4', '6', '8', '9', '8', '5', '8', '2', '2', '5', '4', '8', '7', '9', '3', '8', '4', '4', '1', '9', '2', '1', '3', '5', '7', '4', '3', '6', '6', '5', '6', '7', '9', '4', '9', '7', '8', '6', '9', '6', '7', '2', '5', '3', '9', '1', '4', '7', '7', '1', '5', '8', '5', '2', '7', '6', '8', '3', '6', '7', '1', '3', '6', '2', '3', '7', '5', '5', '4', '7', '9', '4', '2', '9', '2', '1', '7', '9', '7', '6', '3', '9', '1', '1', '9', '2', '7', '2', '3', '4', '2', '6', '1', '5', '2', '8', '3', '5', '1', '2', '3', '5', '5', '3', '6', '3', '6', '4', '9', '8', '3', '3', '8', '9', '8', '7', '5', '9', '9', '1', '1', '1', '2', '4', '2', '6', '4', '5', '1', '5', '7', '8', '9', '7', '3', '6', '7', '5', '4', '7', '4', '5', '2', '3', '1', '1', '9', '1', '6', '3', '8', '6', '2', '4', '3', '7', '6', '2', '1', '1', '8', '9', '8', '1', '4', '3', '1', '5', '4', '6', '1', '1', '2', '6', '3', '8', '6', '9', '4', '4', '7', '3', '4', '6', '9', '7', '2', '9', '2', '6', '8', '3', '1', '7', '5', '7', '8', '6', '9', '2', '8', '4', '1', '2', '5', '9', '1', '4', '4', '4', '9', '4', '2', '1', '1', '5', '1', '7', '1', '3', '7', '1', '9', '1', '9', '4', '9', '4', '4', '7', '4', '5', '5', '7', '5', '5', '5', '6', '1', '3', '8', '7', '8', '1', '2', '8', '3', '5', '7', '5', '1', '8', '6', '9', '3', '1', '9', '6', '9', '7', '9', '6', '5', '2', '2', '3', '9', '6', '1', '7', '6', '1', '9', '1', '9', '2', '2', '7', '3', '5', '1', '8', '8', '4', '7', '6', '9', '7', '8', '1', '6', '9', '9', '4', '5', '3', '7', '9', '2', '6', '6', '2', '2', '1', '9', '8', '3', '4', '3', '1', '4', '8', '4', '5', '3', '3', '4', '4', '8', '1', '8', '9', '5', '2', '4', '4', '2', '5', '9', '5', '5', '5', '3', '8', '6', '8', '7', '3', '9', '9', '4', '2', '2', '2', '9', '9', '7', '7', '8', '9', '2', '4', '5', '6', '1', '7', '9', '1', '2', '7', '6', '9', '4', '1', '6', '9', '1', '5', '4', '6', '8', '2', '9', '2', '4', '6', '4', '2', '7', '7', '4', '3', '5', '2', '6', '8', '1', '2', '9', '9', '4', '7', '2', '7', '8', '9', '6', '3', '8', '5', '4', '4', '9', '6', '9', '4', '1', '2', '2', '6', '4', '5', '6', '4', '3', '6', '3', '1', '3', '1', '9', '4', '8', '8', '9', '2', '1', '6', '2', '2', '4', '7', '2', '3', '3', '7', '6', '9', '4', '8', '7', '3', '5', '4', '2', '2', '2', '2', '4', '6', '9', '9', '4', '6', '2', '3', '6', '2', '8', '3', '5', '9', '3', '3', '4', '4', '8', '9', '9', '4', '4', '7', '9', '2', '5', '8', '9', '8', '8', '3', '5', '9', '8', '3', '9', '8', '8', '8', '9', '7', '6', '5', '6', '5', '7', '6', '8', '7', '6', '7', '2', '1', '8', '3', '4', '3', '1', '8', '7', '4', '4', '2', '6', '6', '5', '9', '7', '1', '2', '2', '1', '9', '2', '7', '3', '3', '7', '2', '1', '1', '1', '8', '1', '6', '1', '1', '8', '2', '8', '8', '2', '2', '3', '8', '7', '8', '6', '1', '7', '3', '3', '2', '7', '2', '3', '2', '6', '9', '7', '6', '8', '9', '1', '8', '5', '8', '8', '8', '7', '1', '3', '2', '4', '5', '4', '1', '5', '7', '9', '9', '7', '5', '2', '6', '1', '9', '4', '2', '7', '1', '4', '5', '8', '9', '9', '2', '8', '5', '1', '4', '3', '9', '6', '3', '5', '8', '1', '2', '3', '7', '7', '4', '8', '4', '6', '2', '7', '3', '5', '7', '5', '2', '1', '1', '5', '1', '3', '5', '5', '5', '5', '3', '6', '9', '7', '2', '2', '5', '7', '7', '3', '2', '8', '6', '5', '9', '1', '3', '4', '4', '6', '4', '9', '5', '7', '7', '4', '4', '2', '5', '8', '8', '9', '4', '5', '5', '4', '5', '8', '2', '4', '8', '1', '9', '2', '7', '8', '5', '4']\n",
            "['9', '6', '8', '1', '5', '7', '5', '6', '2', '8', '8', '7', '1', '6', '6', '3', '8', '5', '6', '5', '9', '9', '9', '9', '9', '7', '4', '4', '5', '2', '7', '5', '4', '7', '3', '4', '1', '4', '7', '5', '4', '6', '2', '5', '3', '9', '8', '7', '2', '9', '6', '6', '5', '1', '1', '2', '7', '7', '5', '1', '8', '4', '7', '8', '3', '9', '2', '1', '5', '3', '2', '2', '7', '9', '4', '4', '4', '9', '8', '8', '2', '9', '2', '1', '4', '9', '4', '3', '4', '9', '1', '1', '8', '4', '4', '5', '9', '5', '9', '4', '5', '3', '7', '2', '1', '6', '2', '9', '7', '7', '7', '1', '3', '4', '7', '5', '2', '3', '6', '8', '3', '1', '4', '9', '4', '4', '9', '3', '8', '6', '8', '6', '9', '1', '5', '2', '8', '1', '5', '9', '4', '6', '1', '4', '2', '9', '6', '3', '9', '2', '1', '1', '7', '1', '3', '1', '8', '8', '8', '7', '5', '6', '4', '7', '5', '2', '5', '9', '7', '8', '6', '5', '1', '1', '3', '1', '7', '8', '7', '8', '1', '7', '9', '1', '2', '4', '3', '5', '8', '9', '3', '8', '4', '3', '5', '6', '6', '8', '6', '8', '3', '4', '5', '9', '6', '2', '1', '9', '4', '7', '5', '5', '2', '2', '1', '3', '7', '2', '4', '2', '8', '6', '7', '8', '5', '5', '2', '8', '1', '1', '7', '7', '5', '3', '8', '5', '8', '1', '5', '9', '4', '2', '5', '5', '6', '8', '6', '6', '5', '8', '8', '3', '7', '8', '5', '8', '3', '6', '6', '9', '9', '2', '8', '1', '2', '5', '6', '9', '1', '3', '5', '9', '1', '9', '6', '1', '4', '7', '9', '5', '7', '6', '4', '2', '9', '7', '2', '7', '1', '2', '6', '4', '9', '4', '2', '5', '1', '8', '2', '4', '1', '5', '7', '1', '4', '7', '3', '2', '6', '8', '4', '2', '3', '1', '4', '2', '1', '1', '2', '8', '8', '2', '9', '9', '6', '6', '2', '2', '5', '1', '2', '4', '9', '2', '1', '8', '1', '1', '8', '9', '1', '4', '2', '2', '4', '2', '8', '5', '7', '5', '6', '5', '3', '3', '8', '4', '2', '9', '6', '6', '9', '8', '1', '7', '6', '5', '4', '4', '8', '6', '4', '9', '6', '5', '5', '2', '8', '4', '1', '9', '5', '5', '4', '5', '3', '9', '2', '3', '1', '7', '5', '9', '4', '7', '2', '3', '3', '6', '2', '8', '9', '5', '1', '1', '5', '2', '4', '7', '3', '4', '2', '7', '5', '3', '3', '4', '2', '1', '1', '6', '8', '3', '5', '5', '2', '7', '2', '4', '2', '7', '7', '8', '7', '9', '8', '7', '7', '1', '5', '9', '4', '6', '1', '6', '2', '3', '6', '5', '5', '1', '1', '1', '3', '4', '7', '4', '3', '3', '4', '9', '2', '4', '6', '5', '1', '5', '6', '9', '1', '1', '3', '6', '9', '9', '7', '8', '2', '5', '9', '2', '3', '1', '2', '7', '4', '6', '2', '1', '5', '1', '6', '1', '3', '6', '3', '7', '2', '6', '1', '9', '8', '5', '1', '4', '6', '6', '5', '4', '1', '1', '3', '3', '9', '9', '2', '9', '1', '7', '8', '5', '2', '2', '2', '6', '5', '7', '4', '7', '3', '6', '2', '5', '9', '7', '4', '9', '3', '6', '1', '6', '8', '7', '5', '2', '3', '8', '2', '7', '6', '1', '3', '7', '6', '9', '1', '3', '4', '7', '5', '7', '3', '8', '7', '2', '7', '2', '8', '5', '2', '9', '2', '5', '6', '4', '1', '5', '1', '3', '7', '9', '6', '4', '4', '8', '8', '5', '7', '8', '7', '1', '9', '7', '9', '9', '7', '4', '1', '2', '7', '3', '8', '4', '5', '3', '7', '1', '6', '8', '9', '7', '8', '6', '2', '7', '4', '7', '5', '6', '7', '6', '6', '4', '7', '9', '1', '9', '2', '6', '8', '7', '7', '6', '8', '7', '7', '4', '8', '8', '2', '9', '5', '9', '9', '6', '4', '9', '7', '4', '9', '1', '2', '4', '8', '8', '4', '6', '7', '8', '1', '3', '6', '8', '8', '7', '1', '1', '8', '7', '3', '4', '1', '2', '9', '2', '4', '5', '9', '9', '2', '6', '6', '6', '5', '6', '7', '6', '4', '4', '8', '4', '7', '8', '3', '8', '8', '1', '3', '6', '4', '6', '5', '1', '7', '7', '7', '9', '9', '5', '4', '1', '8', '6', '1', '5', '4', '4', '1', '7', '3', '3', '4', '9', '3', '7', '8', '7', '1', '7', '6', '3', '6', '7', '4', '2', '9', '7', '1', '5', '8', '1', '2', '4', '1', '3', '1', '1', '8', '6', '9', '3', '2', '4', '5', '2', '7', '7', '7', '3', '1', '1', '5', '3', '6', '4', '5', '4', '2', '8', '7', '4', '6', '2', '1', '4', '7', '2', '6', '7', '8', '2', '2', '3', '1', '2', '2', '6', '3', '6', '8', '8', '1', '7', '5', '8', '2', '1', '4', '2', '8', '6', '1', '1', '5', '7', '9', '7', '2', '7', '7', '7', '4', '6', '6', '4', '4', '5', '1', '4', '5', '8', '1', '1', '4', '8', '7', '9', '2', '2', '4', '5', '9', '6', '7', '7', '8', '5', '9', '7', '3', '7', '2', '7', '5', '2', '8', '9', '7', '7', '4', '1', '1', '4', '9', '1', '2', '1', '1', '8', '5', '1', '9', '3', '3', '8', '2', '5', '4', '4', '3', '1', '9', '3', '6', '4', '8', '1', '4', '8', '9', '7', '6', '7', '2', '5', '2', '5', '6', '6', '2', '2', '4', '9', '2', '2', '6', '4', '2', '3', '1', '3', '4', '1', '3', '2', '3', '9', '2', '9', '8', '7', '7', '8', '2', '5', '1', '5', '9', '1', '9', '4', '3', '8', '9', '3', '5', '6', '5', '1', '1', '2', '5', '1', '5', '5', '4', '8', '2', '8', '1', '9', '7', '1', '2', '4', '8', '2', '8', '9', '9', '6', '2', '5', '8', '3', '9', '5', '5', '9', '6', '4', '1', '1', '3', '6', '5', '8', '2', '8', '1', '9', '7', '1', '5', '6', '2', '6', '5', '2', '4', '1', '1', '3', '2', '2', '7', '5', '5', '4', '6', '8', '1', '5', '7', '8', '3', '8', '1', '8', '1', '3']\n"
          ]
        }
      ]
    },
    {
      "cell_type": "code",
      "source": [
        "# combining the first digit and last digit at each index\n",
        "calibration2_values = [int(first_list[i] + last_list[i]) for i in range(len(first_list))]\n",
        "print(calibration2_values)\n",
        "sum2_cv = sum(calibration2_values)\n",
        "print(sum2_cv)"
      ],
      "metadata": {
        "colab": {
          "base_uri": "https://localhost:8080/"
        },
        "id": "Sq4N5_kRePz0",
        "outputId": "186fe21c-f537-407e-96b6-0b0307ccda37"
      },
      "execution_count": 187,
      "outputs": [
        {
          "output_type": "stream",
          "name": "stdout",
          "text": [
            "[19, 26, 68, 81, 95, 97, 25, 36, 12, 48, 68, 27, 51, 66, 56, 43, 68, 65, 46, 65, 99, 69, 59, 69, 79, 87, 74, 64, 25, 22, 27, 75, 44, 77, 33, 84, 51, 94, 77, 75, 14, 26, 32, 25, 43, 59, 68, 27, 32, 69, 96, 26, 65, 81, 21, 32, 97, 47, 35, 11, 28, 64, 77, 28, 73, 29, 22, 11, 45, 23, 22, 82, 17, 39, 94, 44, 24, 29, 98, 68, 72, 89, 22, 61, 94, 99, 54, 33, 74, 29, 11, 41, 68, 64, 94, 25, 79, 25, 29, 74, 45, 83, 17, 12, 91, 26, 22, 49, 57, 57, 27, 41, 63, 64, 47, 55, 32, 43, 46, 28, 83, 61, 64, 39, 34, 14, 59, 93, 78, 56, 88, 66, 99, 21, 65, 82, 88, 71, 55, 39, 44, 56, 41, 44, 62, 79, 66, 63, 99, 12, 61, 11, 27, 41, 43, 71, 68, 18, 48, 87, 75, 16, 34, 77, 45, 42, 35, 99, 57, 48, 16, 65, 21, 31, 93, 31, 47, 48, 77, 38, 71, 77, 29, 71, 92, 84, 93, 55, 98, 89, 53, 28, 54, 13, 35, 16, 66, 68, 96, 28, 33, 44, 85, 29, 26, 42, 11, 19, 14, 47, 55, 25, 92, 92, 81, 73, 77, 82, 24, 82, 58, 36, 77, 28, 65, 95, 92, 48, 91, 51, 77, 27, 45, 93, 88, 25, 48, 71, 95, 39, 24, 22, 15, 55, 76, 78, 46, 76, 85, 58, 88, 13, 77, 98, 25, 68, 83, 46, 96, 19, 89, 62, 48, 51, 82, 35, 56, 39, 41, 83, 75, 89, 11, 99, 76, 11, 24, 17, 59, 85, 27, 16, 64, 32, 49, 17, 12, 87, 71, 92, 96, 64, 69, 94, 62, 45, 31, 48, 42, 54, 31, 15, 47, 11, 54, 17, 83, 52, 16, 48, 44, 52, 93, 71, 34, 32, 11, 91, 22, 78, 98, 42, 69, 89, 96, 86, 52, 82, 25, 21, 52, 44, 89, 72, 91, 38, 81, 41, 48, 19, 91, 24, 12, 32, 54, 72, 48, 35, 67, 65, 56, 65, 73, 93, 48, 94, 72, 89, 66, 96, 69, 78, 21, 57, 36, 95, 14, 44, 78, 76, 14, 59, 86, 55, 25, 72, 68, 84, 31, 69, 75, 15, 34, 65, 23, 39, 72, 53, 51, 47, 75, 99, 44, 27, 92, 23, 13, 76, 92, 78, 69, 35, 91, 11, 15, 92, 24, 77, 23, 34, 42, 27, 65, 13, 53, 24, 82, 31, 51, 16, 28, 33, 55, 55, 32, 67, 32, 64, 42, 97, 87, 38, 37, 89, 98, 87, 77, 51, 95, 99, 14, 16, 11, 26, 42, 23, 66, 45, 55, 11, 51, 71, 83, 94, 77, 34, 63, 73, 54, 49, 72, 44, 56, 25, 31, 15, 16, 99, 11, 61, 33, 86, 69, 29, 47, 38, 72, 65, 29, 12, 13, 81, 92, 87, 14, 46, 32, 11, 55, 41, 66, 11, 13, 26, 63, 37, 82, 66, 91, 49, 48, 75, 31, 44, 66, 96, 75, 24, 91, 21, 63, 83, 39, 19, 72, 59, 71, 87, 68, 95, 22, 82, 42, 16, 25, 57, 94, 17, 43, 46, 42, 95, 49, 27, 14, 19, 53, 16, 71, 16, 38, 77, 15, 92, 13, 98, 42, 97, 46, 41, 73, 47, 56, 59, 71, 53, 54, 57, 65, 17, 33, 88, 77, 82, 17, 22, 88, 35, 52, 79, 52, 15, 86, 64, 91, 35, 11, 93, 67, 99, 76, 94, 64, 58, 28, 25, 37, 98, 67, 11, 79, 67, 19, 99, 17, 94, 21, 22, 77, 33, 58, 14, 85, 83, 47, 71, 66, 98, 79, 87, 18, 66, 92, 97, 44, 57, 35, 76, 97, 26, 66, 64, 27, 29, 11, 99, 82, 36, 48, 37, 17, 46, 88, 47, 57, 34, 38, 48, 42, 89, 15, 89, 99, 56, 24, 49, 47, 24, 59, 91, 52, 54, 58, 38, 84, 66, 87, 78, 31, 93, 96, 48, 28, 27, 21, 91, 98, 77, 73, 84, 91, 22, 49, 52, 64, 15, 79, 99, 12, 26, 76, 66, 95, 46, 17, 66, 94, 14, 58, 44, 67, 88, 23, 98, 28, 41, 63, 46, 24, 76, 75, 41, 37, 57, 27, 69, 89, 15, 24, 91, 98, 46, 71, 25, 74, 84, 91, 67, 33, 83, 54, 49, 43, 97, 68, 97, 41, 17, 26, 23, 66, 47, 54, 62, 49, 37, 61, 35, 18, 31, 12, 94, 41, 83, 81, 91, 28, 16, 69, 23, 22, 44, 75, 22, 37, 37, 77, 63, 91, 41, 85, 73, 36, 54, 45, 24, 22, 28, 27, 44, 66, 92, 91, 44, 67, 22, 36, 67, 28, 82, 32, 53, 91, 32, 32, 46, 43, 86, 98, 98, 41, 47, 75, 98, 22, 51, 84, 92, 88, 86, 31, 51, 95, 87, 39, 97, 82, 87, 87, 97, 74, 66, 56, 64, 54, 75, 61, 84, 75, 68, 71, 21, 14, 88, 37, 49, 32, 12, 84, 75, 49, 46, 27, 67, 68, 55, 99, 77, 13, 27, 22, 17, 95, 22, 78, 39, 37, 77, 24, 11, 11, 14, 89, 11, 62, 11, 11, 88, 25, 81, 89, 23, 23, 38, 82, 75, 84, 64, 13, 71, 39, 33, 26, 74, 28, 31, 24, 68, 99, 77, 66, 87, 92, 15, 82, 55, 86, 86, 82, 72, 14, 39, 22, 42, 56, 44, 12, 53, 71, 93, 94, 71, 53, 22, 63, 19, 92, 49, 28, 77, 17, 48, 52, 85, 91, 95, 29, 81, 59, 14, 43, 38, 99, 63, 35, 56, 85, 11, 21, 32, 75, 71, 45, 85, 44, 68, 22, 78, 31, 59, 77, 51, 22, 14, 18, 52, 18, 39, 59, 56, 52, 55, 38, 63, 99, 75, 25, 29, 56, 74, 71, 31, 23, 86, 65, 58, 92, 18, 31, 49, 47, 61, 45, 96, 52, 76, 75, 42, 44, 21, 51, 83, 82, 92, 47, 55, 55, 44, 56, 88, 21, 45, 87, 18, 93, 28, 71, 88, 51, 43]\n",
            "54676\n"
          ]
        }
      ]
    }
  ]
}